{
 "cells": [
  {
   "cell_type": "code",
   "execution_count": 67,
   "metadata": {},
   "outputs": [],
   "source": [
    "from sklearn.datasets import make_classification\n",
    "from sklearn.model_selection import train_test_split\n",
    "from sklearn.linear_model import LogisticRegression\n",
    "from sklearn.discriminant_analysis import LinearDiscriminantAnalysis\n",
    "from sklearn.metrics import roc_auc_score"
   ]
  },
  {
   "cell_type": "code",
   "execution_count": 9,
   "metadata": {},
   "outputs": [],
   "source": [
    "from adaptivee.ensembler import AdaptiveEnsembler\n",
    "from adaptivee.encoders import MLPEncoder"
   ]
  },
  {
   "cell_type": "code",
   "execution_count": 70,
   "metadata": {},
   "outputs": [],
   "source": [
    "X, y = make_classification(n_samples=1000, n_features=100, n_repeated=80)\n",
    "X_train, X_test, y_train, y_test = train_test_split(X, y)\n",
    "\n",
    "models = [LogisticRegression(), LinearDiscriminantAnalysis()]\n",
    "encoder = MLPEncoder((200, 200, 200))\n",
    "ensembler = AdaptiveEnsembler(models, encoder=encoder, is_models_trained=False)"
   ]
  },
  {
   "cell_type": "code",
   "execution_count": 71,
   "metadata": {},
   "outputs": [],
   "source": [
    "ensembler.create_adaptive_ensembler(X_train, y_train)"
   ]
  },
  {
   "cell_type": "code",
   "execution_count": 72,
   "metadata": {},
   "outputs": [
    {
     "name": "stdout",
     "output_type": "stream",
     "text": [
      "roc-auc adaptivee: 0.9759963768115942\n"
     ]
    }
   ],
   "source": [
    "y_hat = ensembler.predict(X_test)\n",
    "\n",
    "print(f'roc-auc adaptivee: {roc_auc_score(y_test, y_hat)}')"
   ]
  },
  {
   "cell_type": "code",
   "execution_count": 73,
   "metadata": {},
   "outputs": [
    {
     "name": "stdout",
     "output_type": "stream",
     "text": [
      "roc-auc ensemble: 0.9178312629399585\n"
     ]
    }
   ],
   "source": [
    "y_hat_1 = models[0].predict(X_test)\n",
    "y_hat_2 = models[1].predict(X_test)\n",
    "y_hat = (y_hat_1 + y_hat_2) / 2\n",
    "\n",
    "print(f'roc-auc ensemble: {roc_auc_score(y_test, y_hat)}')"
   ]
  },
  {
   "cell_type": "code",
   "execution_count": 74,
   "metadata": {},
   "outputs": [
    {
     "name": "stdout",
     "output_type": "stream",
     "text": [
      "roc-auc ensemble: 0.905473602484472\n"
     ]
    }
   ],
   "source": [
    "y_hat = models[0].predict(X_test)\n",
    "\n",
    "print(f'roc-auc logistic regression: {roc_auc_score(y_test, y_hat)}')"
   ]
  },
  {
   "cell_type": "code",
   "execution_count": 75,
   "metadata": {},
   "outputs": [
    {
     "name": "stdout",
     "output_type": "stream",
     "text": [
      "roc-auc ensemble: 0.911037784679089\n"
     ]
    }
   ],
   "source": [
    "y_hat = models[1].predict(X_test)\n",
    "\n",
    "print(f'roc-auc LDA: {roc_auc_score(y_test, y_hat)}')"
   ]
  }
 ],
 "metadata": {
  "kernelspec": {
   "display_name": "dl",
   "language": "python",
   "name": "python3"
  },
  "language_info": {
   "codemirror_mode": {
    "name": "ipython",
    "version": 3
   },
   "file_extension": ".py",
   "mimetype": "text/x-python",
   "name": "python",
   "nbconvert_exporter": "python",
   "pygments_lexer": "ipython3",
   "version": "3.10.14"
  }
 },
 "nbformat": 4,
 "nbformat_minor": 2
}
